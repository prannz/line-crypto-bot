{
 "cells": [
  {
   "cell_type": "code",
   "execution_count": 1,
   "id": "e4dbd0f8",
   "metadata": {},
   "outputs": [
    {
     "name": "stdout",
     "output_type": "stream",
     "text": [
      "⚠️ Error fetching price: ('Connection aborted.', ConnectionResetError(10054, 'An existing connection was forcibly closed by the remote host', None, 10054, None))\n",
      "⚠️ Error fetching price: ('Connection aborted.', ConnectionResetError(10054, 'An existing connection was forcibly closed by the remote host', None, 10054, None))\n",
      "⚠️ Error fetching price: ('Connection aborted.', ConnectionResetError(10054, 'An existing connection was forcibly closed by the remote host', None, 10054, None))\n",
      "❌ Unknown symbol 'btv'. Try: btc, eth, doge, sol, ada, xrp, link, dot, ltc, uni\n"
     ]
    }
   ],
   "source": [
    "import requests\n",
    "\n",
    "coin_map = {\n",
    "    'btc': 'bitcoin',\n",
    "    'eth': 'ethereum',\n",
    "    'doge': 'dogecoin',\n",
    "    'sol': 'solana',\n",
    "    'ada': 'cardano',\n",
    "    'xrp': 'ripple',\n",
    "    'link': 'chainlink',\n",
    "    'dot': 'polkadot',\n",
    "    'ltc': 'litecoin',\n",
    "    'uni': 'uniswap',\n",
    "}\n",
    "\n",
    "def fetch_crypto_price(symbol):\n",
    "    symbol = symbol.lower().strip()\n",
    "    coin_id = coin_map.get(symbol)\n",
    "    \n",
    "    if not coin_id:\n",
    "        return f\"❌ Unknown symbol '{symbol}'. Try: {', '.join(coin_map.keys())}\"\n",
    "    \n",
    "    try:\n",
    "        url = f\"https://api.coingecko.com/api/v3/simple/price?ids={coin_id}&vs_currencies=usd\"\n",
    "        response = requests.get(url)\n",
    "        response.raise_for_status()\n",
    "        data = response.json()\n",
    "        usd = data[coin_id]['usd']\n",
    "        return f\"💰 {symbol.upper()} = ${usd:,.2f} USD\"\n",
    "    except Exception as e:\n",
    "        return f\"⚠️ Error fetching price: {e}\"\n",
    "\n",
    "# Test examples\n",
    "print(fetch_crypto_price(\"btc\"))\n",
    "print(fetch_crypto_price(\"eth\"))\n",
    "print(fetch_crypto_price(\"doge\"))\n",
    "print(fetch_crypto_price(\"btv\"))  # should fail\n"
   ]
  }
 ],
 "metadata": {
  "kernelspec": {
   "display_name": "Python 3",
   "language": "python",
   "name": "python3"
  },
  "language_info": {
   "codemirror_mode": {
    "name": "ipython",
    "version": 3
   },
   "file_extension": ".py",
   "mimetype": "text/x-python",
   "name": "python",
   "nbconvert_exporter": "python",
   "pygments_lexer": "ipython3",
   "version": "3.12.4"
  }
 },
 "nbformat": 4,
 "nbformat_minor": 5
}
